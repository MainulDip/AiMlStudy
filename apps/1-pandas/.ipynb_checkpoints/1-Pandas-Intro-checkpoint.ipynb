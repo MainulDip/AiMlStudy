{
 "cells": [
  {
   "cell_type": "code",
   "execution_count": 1,
   "id": "e4dc1cc7",
   "metadata": {},
   "outputs": [],
   "source": [
    "import pandas as pd"
   ]
  },
  {
   "cell_type": "markdown",
   "id": "f7dc1e2a",
   "metadata": {},
   "source": [
    "### Pandas Data Types"
   ]
  },
  {
   "cell_type": "code",
   "execution_count": 6,
   "id": "1ae1747e",
   "metadata": {},
   "outputs": [],
   "source": [
    "# 2 main datatypes Series (1 Dimensional) and DataFrame (2 Dimensional)\n",
    "series = pd.Series([\"BMW\", \"Toyota\", \"Honda\"])\n",
    "colors = pd.Series([\"Blue\", \"Red\", \"White\"]) "
   ]
  },
  {
   "cell_type": "code",
   "execution_count": 15,
   "id": "3bc344e6",
   "metadata": {},
   "outputs": [],
   "source": [
    "# DataFrame = 2 dimensional\n",
    "car_data = pd.DataFrame({\"Car make\": series, \"Color\": colors})\n",
    "# car_data.CarMake"
   ]
  },
  {
   "cell_type": "code",
   "execution_count": 11,
   "id": "cc2e672e",
   "metadata": {},
   "outputs": [
    {
     "data": {
      "text/plain": [
       "0              BMW\n",
       "1    Mercedes-Benz\n",
       "2    Mercedes-Benz\n",
       "3             Audi\n",
       "4           Toyota\n",
       "Name: Brand, dtype: object"
      ]
     },
     "execution_count": 11,
     "metadata": {},
     "output_type": "execute_result"
    }
   ],
   "source": [
    "# Import data\n",
    "car_sales = pd.read_csv(\"car-sales.csv\")\n",
    "car_sales.Brand.head()"
   ]
  },
  {
   "cell_type": "code",
   "execution_count": 18,
   "id": "a75887fd",
   "metadata": {},
   "outputs": [],
   "source": [
    "# Exporting a data frame\n",
    "# index = False to stop forced indexing of the csv rows\n",
    "car_sales.to_csv(\"exported-car-sales.csv\", index = False)\n",
    "# car_sales.to_exel(\"exported-car-sales.xl\")"
   ]
  },
  {
   "cell_type": "code",
   "execution_count": 20,
   "id": "254ffcc0",
   "metadata": {},
   "outputs": [
    {
     "data": {
      "text/html": [
       "<div>\n",
       "<style scoped>\n",
       "    .dataframe tbody tr th:only-of-type {\n",
       "        vertical-align: middle;\n",
       "    }\n",
       "\n",
       "    .dataframe tbody tr th {\n",
       "        vertical-align: top;\n",
       "    }\n",
       "\n",
       "    .dataframe thead th {\n",
       "        text-align: right;\n",
       "    }\n",
       "</style>\n",
       "<table border=\"1\" class=\"dataframe\">\n",
       "  <thead>\n",
       "    <tr style=\"text-align: right;\">\n",
       "      <th></th>\n",
       "      <th>Brand</th>\n",
       "      <th>Price</th>\n",
       "      <th>Body</th>\n",
       "      <th>Mileage</th>\n",
       "      <th>EngineV</th>\n",
       "      <th>Engine Type</th>\n",
       "      <th>Registration</th>\n",
       "      <th>Year</th>\n",
       "      <th>Model</th>\n",
       "    </tr>\n",
       "  </thead>\n",
       "  <tbody>\n",
       "    <tr>\n",
       "      <th>0</th>\n",
       "      <td>BMW</td>\n",
       "      <td>4200.0</td>\n",
       "      <td>sedan</td>\n",
       "      <td>277</td>\n",
       "      <td>2.0</td>\n",
       "      <td>Petrol</td>\n",
       "      <td>yes</td>\n",
       "      <td>1991</td>\n",
       "      <td>320</td>\n",
       "    </tr>\n",
       "    <tr>\n",
       "      <th>1</th>\n",
       "      <td>Mercedes-Benz</td>\n",
       "      <td>7900.0</td>\n",
       "      <td>van</td>\n",
       "      <td>427</td>\n",
       "      <td>2.9</td>\n",
       "      <td>Diesel</td>\n",
       "      <td>yes</td>\n",
       "      <td>1999</td>\n",
       "      <td>Sprinter 212</td>\n",
       "    </tr>\n",
       "    <tr>\n",
       "      <th>2</th>\n",
       "      <td>Mercedes-Benz</td>\n",
       "      <td>13300.0</td>\n",
       "      <td>sedan</td>\n",
       "      <td>358</td>\n",
       "      <td>5.0</td>\n",
       "      <td>Gas</td>\n",
       "      <td>yes</td>\n",
       "      <td>2003</td>\n",
       "      <td>S 500</td>\n",
       "    </tr>\n",
       "    <tr>\n",
       "      <th>3</th>\n",
       "      <td>Audi</td>\n",
       "      <td>23000.0</td>\n",
       "      <td>crossover</td>\n",
       "      <td>240</td>\n",
       "      <td>4.2</td>\n",
       "      <td>Petrol</td>\n",
       "      <td>yes</td>\n",
       "      <td>2007</td>\n",
       "      <td>Q7</td>\n",
       "    </tr>\n",
       "    <tr>\n",
       "      <th>4</th>\n",
       "      <td>Toyota</td>\n",
       "      <td>18300.0</td>\n",
       "      <td>crossover</td>\n",
       "      <td>120</td>\n",
       "      <td>2.0</td>\n",
       "      <td>Petrol</td>\n",
       "      <td>yes</td>\n",
       "      <td>2011</td>\n",
       "      <td>Rav 4</td>\n",
       "    </tr>\n",
       "  </tbody>\n",
       "</table>\n",
       "</div>"
      ],
      "text/plain": [
       "           Brand    Price       Body  Mileage  EngineV Engine Type  \\\n",
       "0            BMW   4200.0      sedan      277      2.0      Petrol   \n",
       "1  Mercedes-Benz   7900.0        van      427      2.9      Diesel   \n",
       "2  Mercedes-Benz  13300.0      sedan      358      5.0         Gas   \n",
       "3           Audi  23000.0  crossover      240      4.2      Petrol   \n",
       "4         Toyota  18300.0  crossover      120      2.0      Petrol   \n",
       "\n",
       "  Registration  Year         Model  \n",
       "0          yes  1991           320  \n",
       "1          yes  1999  Sprinter 212  \n",
       "2          yes  2003         S 500  \n",
       "3          yes  2007            Q7  \n",
       "4          yes  2011         Rav 4  "
      ]
     },
     "execution_count": 20,
     "metadata": {},
     "output_type": "execute_result"
    }
   ],
   "source": [
    "# import exported csv\n",
    "car_sales_exported = pd.read_csv(\"exported-car-sales.csv\")\n",
    "car_sales_exported.head()"
   ]
  },
  {
   "cell_type": "markdown",
   "id": "027b6289",
   "metadata": {},
   "source": [
    "### Describe Data"
   ]
  },
  {
   "cell_type": "code",
   "execution_count": null,
   "id": "8af15055",
   "metadata": {},
   "outputs": [],
   "source": [
    "# Attribute : extra info about a data frame\n",
    "car_sales.dtypes\n",
    "\n",
    "# Function : operations on data frame"
   ]
  }
 ],
 "metadata": {
  "kernelspec": {
   "display_name": "Python 3 (ipykernel)",
   "language": "python",
   "name": "python3"
  },
  "language_info": {
   "codemirror_mode": {
    "name": "ipython",
    "version": 3
   },
   "file_extension": ".py",
   "mimetype": "text/x-python",
   "name": "python",
   "nbconvert_exporter": "python",
   "pygments_lexer": "ipython3",
   "version": "3.10.13"
  }
 },
 "nbformat": 4,
 "nbformat_minor": 5
}
