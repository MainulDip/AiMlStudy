{
 "cells": [
  {
   "cell_type": "code",
   "execution_count": 1,
   "id": "e2ecf8c6",
   "metadata": {},
   "outputs": [],
   "source": [
    "import numpy as np"
   ]
  },
  {
   "cell_type": "markdown",
   "id": "de5f67ee",
   "metadata": {},
   "source": [
    "### DataTypes & Attributes"
   ]
  },
  {
   "cell_type": "code",
   "execution_count": 2,
   "id": "d3db41b7",
   "metadata": {},
   "outputs": [],
   "source": [
    "# Numpy's main datatype is ndarray (n dimensional array)\n",
    "# 1 dimensional, Names: Array, vector || Shape = (1, 4) or (1, n)\n",
    "a1 = np.array([1, 2, 3, 4])"
   ]
  },
  {
   "cell_type": "code",
   "execution_count": 3,
   "id": "46d52378",
   "metadata": {},
   "outputs": [
    {
     "data": {
      "text/plain": [
       "numpy.ndarray"
      ]
     },
     "execution_count": 3,
     "metadata": {},
     "output_type": "execute_result"
    }
   ],
   "source": [
    "type(a1)"
   ]
  },
  {
   "cell_type": "code",
   "execution_count": 6,
   "id": "97d284ed",
   "metadata": {},
   "outputs": [],
   "source": [
    "# Multi dimensional, Names: Array, matrix || Shape = (2, 3) or (n, n)\n",
    "a2 = np.array([\n",
    "    [1, 2.0, 3.3],\n",
    "    [4, 5, 6.5]\n",
    "])\n",
    "\n",
    "# Multi dimensional, Names: Array, matrix || Shape = (2, 3, 3) or (n, n, n)\n",
    "a3 = np.array([\n",
    "    [[1,2,3],[4,5,6],[7,8,9]],\n",
    "    [[10,11,12],[13,14,15],[16,17,18]]\n",
    "])"
   ]
  },
  {
   "cell_type": "markdown",
   "id": "f4a9588f",
   "metadata": {},
   "source": [
    "### Axis || Dimension || Shape (Axis, Axis, ...):\n",
    "- Axis 0: Row || Vertical (Dimension 0 or d0)\n",
    "- Axis 1: Column || Horizontal (Dimension 1 or d1)\n",
    "- Axis n: n Dimension || Depth ((Dimension n or dn)"
   ]
  },
  {
   "cell_type": "code",
   "execution_count": 12,
   "id": "4fab23c0",
   "metadata": {},
   "outputs": [
    {
     "name": "stdout",
     "output_type": "stream",
     "text": [
      "a1.shape: (4,), a2.shape: (2, 3), a3.shape: (2, 3, 3)\n",
      "Dimensions: a1.ndim: 1, a2.ndim: 2, a3.ndim: 3\n"
     ]
    }
   ],
   "source": [
    "print(f\"a1.shape: {a1.shape}, a2.shape: {a2.shape}, a3.shape: {a3.shape}\")\n",
    "print(f\"Dimensions: a1.ndim: {a1.ndim}, a2.ndim: {a2.ndim}, a3.ndim: {a3.ndim}\")"
   ]
  },
  {
   "cell_type": "code",
   "execution_count": 22,
   "id": "a7574d29",
   "metadata": {},
   "outputs": [
    {
     "name": "stdout",
     "output_type": "stream",
     "text": [
      "a1.dtype: int64, a2.dtype: float64, a3.dtype: int64\n",
      "a1.size: 4, a2.size: 6, a3.size: 18\n"
     ]
    },
    {
     "data": {
      "text/plain": [
       "(numpy.ndarray, numpy.ndarray, numpy.ndarray)"
      ]
     },
     "execution_count": 22,
     "metadata": {},
     "output_type": "execute_result"
    }
   ],
   "source": [
    "# data types\n",
    "print(f\"a1.dtype: {a1.dtype}, a2.dtype: {a2.dtype}, a3.dtype: {a3.dtype}\")\n",
    "\n",
    "# element size\n",
    "print(f\"a1.size: {a1.size}, a2.size: {a2.size}, a3.size: {a3.size}\")\n",
    "type(a1), type(a2), type(a3) # all are numpy.ndarray"
   ]
  },
  {
   "cell_type": "markdown",
   "id": "2ecd031f",
   "metadata": {},
   "source": [
    "### DataFrame form a Numpy Array:"
   ]
  },
  {
   "cell_type": "code",
   "execution_count": 15,
   "id": "7cfec378",
   "metadata": {},
   "outputs": [
    {
     "data": {
      "text/html": [
       "<div>\n",
       "<style scoped>\n",
       "    .dataframe tbody tr th:only-of-type {\n",
       "        vertical-align: middle;\n",
       "    }\n",
       "\n",
       "    .dataframe tbody tr th {\n",
       "        vertical-align: top;\n",
       "    }\n",
       "\n",
       "    .dataframe thead th {\n",
       "        text-align: right;\n",
       "    }\n",
       "</style>\n",
       "<table border=\"1\" class=\"dataframe\">\n",
       "  <thead>\n",
       "    <tr style=\"text-align: right;\">\n",
       "      <th></th>\n",
       "      <th>0</th>\n",
       "      <th>1</th>\n",
       "      <th>2</th>\n",
       "    </tr>\n",
       "  </thead>\n",
       "  <tbody>\n",
       "    <tr>\n",
       "      <th>0</th>\n",
       "      <td>1.0</td>\n",
       "      <td>2.0</td>\n",
       "      <td>3.3</td>\n",
       "    </tr>\n",
       "    <tr>\n",
       "      <th>1</th>\n",
       "      <td>4.0</td>\n",
       "      <td>5.0</td>\n",
       "      <td>6.5</td>\n",
       "    </tr>\n",
       "  </tbody>\n",
       "</table>\n",
       "</div>"
      ],
      "text/plain": [
       "     0    1    2\n",
       "0  1.0  2.0  3.3\n",
       "1  4.0  5.0  6.5"
      ]
     },
     "execution_count": 15,
     "metadata": {},
     "output_type": "execute_result"
    }
   ],
   "source": [
    "import pandas as pd\n",
    "\n",
    "df = pd.DataFrame(a2)\n",
    "df"
   ]
  },
  {
   "cell_type": "markdown",
   "id": "33593e86",
   "metadata": {},
   "source": [
    "### Creating arrays:"
   ]
  },
  {
   "cell_type": "code",
   "execution_count": 16,
   "id": "b4e40823",
   "metadata": {},
   "outputs": [],
   "source": [
    "sample_array = np.array([1,2,3])"
   ]
  },
  {
   "cell_type": "code",
   "execution_count": 19,
   "id": "514c1069",
   "metadata": {},
   "outputs": [
    {
     "data": {
      "text/plain": [
       "array([[1., 1., 1.],\n",
       "       [1., 1., 1.]])"
      ]
     },
     "execution_count": 19,
     "metadata": {},
     "output_type": "execute_result"
    }
   ],
   "source": [
    "# shift + tab to get docs/prarms\n",
    "# Return a new array of given shape and type, filled with ones.\n",
    "ones = np.ones((2,3))\n",
    "ones"
   ]
  },
  {
   "cell_type": "code",
   "execution_count": 20,
   "id": "c33f1cda",
   "metadata": {},
   "outputs": [
    {
     "data": {
      "text/plain": [
       "dtype('float64')"
      ]
     },
     "execution_count": 20,
     "metadata": {},
     "output_type": "execute_result"
    }
   ],
   "source": [
    "ones.dtype"
   ]
  },
  {
   "cell_type": "code",
   "execution_count": 28,
   "id": "f36f2a00",
   "metadata": {},
   "outputs": [
    {
     "data": {
      "text/plain": [
       "array([[0., 0., 0.],\n",
       "       [0., 0., 0.],\n",
       "       [0., 0., 0.]])"
      ]
     },
     "execution_count": 28,
     "metadata": {},
     "output_type": "execute_result"
    }
   ],
   "source": [
    "zeros = np.zeros((3,3))\n",
    "zeros"
   ]
  },
  {
   "cell_type": "code",
   "execution_count": 29,
   "id": "ef9aa05a",
   "metadata": {},
   "outputs": [
    {
     "data": {
      "text/plain": [
       "array([0, 2, 4, 6, 8])"
      ]
     },
     "execution_count": 29,
     "metadata": {},
     "output_type": "execute_result"
    }
   ],
   "source": [
    "# ndarray from range\n",
    "# arange([start,] stop[, step,], dtype=None, *, like=None)\n",
    "range_array = np.arange(0, 10, 2)\n",
    "range_array"
   ]
  },
  {
   "cell_type": "code",
   "execution_count": 31,
   "id": "6bc26ec3",
   "metadata": {},
   "outputs": [
    {
     "data": {
      "text/plain": [
       "array([[8, 3, 2],\n",
       "       [6, 0, 6],\n",
       "       [9, 2, 4]])"
      ]
     },
     "execution_count": 31,
     "metadata": {},
     "output_type": "execute_result"
    }
   ],
   "source": [
    "# random ndarray: randint(low, high=None, size=None, dtype=int)\n",
    "random_array = np.random.randint(0, 10, (3,3))\n",
    "random_array"
   ]
  },
  {
   "cell_type": "code",
   "execution_count": 33,
   "id": "e12f4ae6",
   "metadata": {},
   "outputs": [
    {
     "data": {
      "text/plain": [
       "array([[[0.92071499, 0.00878512, 0.0702854 ],\n",
       "        [0.3001116 , 0.53785825, 0.33374222]]])"
      ]
     },
     "execution_count": 33,
     "metadata": {},
     "output_type": "execute_result"
    }
   ],
   "source": [
    "# random ndarray: random(size=None)\n",
    "# Return random floats in the half-open interval [0.0, 1.0)\n",
    "random_arr_2 = np.random.random((1,2,3))\n",
    "random_arr_2"
   ]
  },
  {
   "cell_type": "code",
   "execution_count": 35,
   "id": "aa8c0410",
   "metadata": {},
   "outputs": [
    {
     "data": {
      "text/plain": [
       "(1, 2, 3)"
      ]
     },
     "execution_count": 35,
     "metadata": {},
     "output_type": "execute_result"
    }
   ],
   "source": [
    "random_arr_2.shape"
   ]
  },
  {
   "cell_type": "code",
   "execution_count": 37,
   "id": "efbb5295",
   "metadata": {},
   "outputs": [
    {
     "data": {
      "text/plain": [
       "array([[0.48150425, 0.71911076, 0.25357877],\n",
       "       [0.79938801, 0.79929176, 0.17519664],\n",
       "       [0.47801893, 0.6157459 , 0.65698275],\n",
       "       [0.50829846, 0.28691424, 0.07735197]])"
      ]
     },
     "execution_count": 37,
     "metadata": {},
     "output_type": "execute_result"
    }
   ],
   "source": [
    "# random ndarray: rand(d0, d1, ..., dn)\n",
    "# Random values in a given shape.\n",
    "random_arr_3 = np.random.rand(4,3)\n",
    "random_arr_3"
   ]
  },
  {
   "cell_type": "markdown",
   "id": "11014d6b",
   "metadata": {},
   "source": [
    "### Seed || Same Random Numbers || Pseudo Random Numbers:"
   ]
  },
  {
   "cell_type": "code",
   "execution_count": 40,
   "id": "dea45f0b",
   "metadata": {},
   "outputs": [
    {
     "data": {
      "text/plain": [
       "array([[5, 0, 3, 3],\n",
       "       [7, 9, 3, 5],\n",
       "       [2, 4, 7, 6]])"
      ]
     },
     "execution_count": 40,
     "metadata": {},
     "output_type": "execute_result"
    }
   ],
   "source": [
    "# seed: Pseudo Random Numbers : Non-random random numbers\n",
    "# Reseed the singleton RandomState instance, so on same seed the numbers are identical\n",
    "np.random.seed(0)\n",
    "random_array_4 = np.random.randint(0, 10, (3,4))\n",
    "random_array_4"
   ]
  },
  {
   "cell_type": "code",
   "execution_count": 59,
   "id": "b3923882",
   "metadata": {},
   "outputs": [
    {
     "data": {
      "text/plain": [
       "array([[9, 7, 7, 6],\n",
       "       [2, 5, 6, 1],\n",
       "       [9, 3, 4, 0]])"
      ]
     },
     "execution_count": 59,
     "metadata": {},
     "output_type": "execute_result"
    }
   ],
   "source": [
    "# np.random.seed(7)\n",
    "# seed will only once for each underneth random fn\n",
    "random_array_5 = np.random.randint(0, 10, (3,4))\n",
    "random_array_5"
   ]
  },
  {
   "cell_type": "markdown",
   "id": "22ec423e",
   "metadata": {},
   "source": [
    "### Viewing arrays and matrices:"
   ]
  },
  {
   "cell_type": "code",
   "execution_count": 60,
   "id": "6d0f1ef8",
   "metadata": {},
   "outputs": [
    {
     "data": {
      "text/plain": [
       "array([0, 2, 3, 4, 5, 6, 7, 9])"
      ]
     },
     "execution_count": 60,
     "metadata": {},
     "output_type": "execute_result"
    }
   ],
   "source": [
    "# Find unique numbers from a NumPy array\n",
    "np.unique(random_array_4)"
   ]
  },
  {
   "cell_type": "code",
   "execution_count": 61,
   "id": "e7977a69",
   "metadata": {},
   "outputs": [
    {
     "data": {
      "text/plain": [
       "array([[[[3, 5, 6, 4, 0],\n",
       "         [4, 1, 5, 2, 4],\n",
       "         [8, 7, 5, 7, 5],\n",
       "         [3, 7, 6, 2, 3]],\n",
       "\n",
       "        [[1, 1, 8, 4, 2],\n",
       "         [1, 7, 0, 8, 8],\n",
       "         [1, 2, 3, 0, 1],\n",
       "         [1, 5, 5, 6, 0]],\n",
       "\n",
       "        [[9, 3, 2, 4, 2],\n",
       "         [8, 4, 9, 0, 0],\n",
       "         [2, 6, 3, 9, 5],\n",
       "         [4, 6, 9, 9, 9]]],\n",
       "\n",
       "\n",
       "       [[[4, 8, 2, 4, 6],\n",
       "         [5, 3, 5, 2, 6],\n",
       "         [4, 3, 2, 5, 9],\n",
       "         [7, 5, 8, 5, 2]],\n",
       "\n",
       "        [[0, 9, 3, 2, 2],\n",
       "         [4, 3, 4, 8, 7],\n",
       "         [0, 2, 7, 8, 8],\n",
       "         [4, 0, 4, 1, 7]],\n",
       "\n",
       "        [[4, 9, 0, 1, 0],\n",
       "         [6, 2, 0, 2, 4],\n",
       "         [4, 1, 0, 0, 2],\n",
       "         [3, 7, 6, 9, 3]]]])"
      ]
     },
     "execution_count": 61,
     "metadata": {},
     "output_type": "execute_result"
    }
   ],
   "source": [
    "# slicing and indexing array\n",
    "a3 = np.random.randint(10, size=(2,3,4,5))\n",
    "a3\n",
    "# count numbers from outer most size (5) to innermost indexes (5 elements) "
   ]
  },
  {
   "cell_type": "code",
   "execution_count": 62,
   "id": "14758477",
   "metadata": {},
   "outputs": [
    {
     "data": {
      "text/plain": [
       "array([[[[3, 5, 6, 4],\n",
       "         [4, 1, 5, 2],\n",
       "         [8, 7, 5, 7],\n",
       "         [3, 7, 6, 2]],\n",
       "\n",
       "        [[1, 1, 8, 4],\n",
       "         [1, 7, 0, 8],\n",
       "         [1, 2, 3, 0],\n",
       "         [1, 5, 5, 6]],\n",
       "\n",
       "        [[9, 3, 2, 4],\n",
       "         [8, 4, 9, 0],\n",
       "         [2, 6, 3, 9],\n",
       "         [4, 6, 9, 9]]],\n",
       "\n",
       "\n",
       "       [[[4, 8, 2, 4],\n",
       "         [5, 3, 5, 2],\n",
       "         [4, 3, 2, 5],\n",
       "         [7, 5, 8, 5]],\n",
       "\n",
       "        [[0, 9, 3, 2],\n",
       "         [4, 3, 4, 8],\n",
       "         [0, 2, 7, 8],\n",
       "         [4, 0, 4, 1]],\n",
       "\n",
       "        [[4, 9, 0, 1],\n",
       "         [6, 2, 0, 2],\n",
       "         [4, 1, 0, 0],\n",
       "         [3, 7, 6, 9]]]])"
      ]
     },
     "execution_count": 62,
     "metadata": {},
     "output_type": "execute_result"
    }
   ],
   "source": [
    "a3[:, :, :, :4]"
   ]
  },
  {
   "cell_type": "code",
   "execution_count": 63,
   "id": "ff8c692d",
   "metadata": {},
   "outputs": [
    {
     "data": {
      "text/plain": [
       "array([4, 8, 2, 4, 6])"
      ]
     },
     "execution_count": 63,
     "metadata": {},
     "output_type": "execute_result"
    }
   ],
   "source": [
    "a3[1][0][0]"
   ]
  },
  {
   "cell_type": "markdown",
   "id": "7e3ced89",
   "metadata": {},
   "source": [
    "### Manipulate Arrays (ndarrays) & comparing:"
   ]
  },
  {
   "cell_type": "code",
   "execution_count": 64,
   "id": "d1a9ccdd",
   "metadata": {},
   "outputs": [],
   "source": [
    "### Arithmetic "
   ]
  }
 ],
 "metadata": {
  "kernelspec": {
   "display_name": "Python 3 (ipykernel)",
   "language": "python",
   "name": "python3"
  },
  "language_info": {
   "codemirror_mode": {
    "name": "ipython",
    "version": 3
   },
   "file_extension": ".py",
   "mimetype": "text/x-python",
   "name": "python",
   "nbconvert_exporter": "python",
   "pygments_lexer": "ipython3",
   "version": "3.10.13"
  }
 },
 "nbformat": 4,
 "nbformat_minor": 5
}
