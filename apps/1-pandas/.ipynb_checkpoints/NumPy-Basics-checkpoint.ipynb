{
 "cells": [
  {
   "cell_type": "code",
   "execution_count": 1,
   "id": "e2ecf8c6",
   "metadata": {},
   "outputs": [],
   "source": [
    "import numpy as np"
   ]
  },
  {
   "cell_type": "markdown",
   "id": "de5f67ee",
   "metadata": {},
   "source": [
    "### DataTypes & Attributes"
   ]
  },
  {
   "cell_type": "code",
   "execution_count": 2,
   "id": "d3db41b7",
   "metadata": {},
   "outputs": [],
   "source": [
    "# Numpy's main datatype is ndarray (n dimensional array)\n",
    "# 1 dimensional, Names: Array, vector || Shape = (1, 4) or (1, n)\n",
    "a1 = np.array([1, 2, 3, 4])"
   ]
  },
  {
   "cell_type": "code",
   "execution_count": 3,
   "id": "46d52378",
   "metadata": {},
   "outputs": [
    {
     "data": {
      "text/plain": [
       "numpy.ndarray"
      ]
     },
     "execution_count": 3,
     "metadata": {},
     "output_type": "execute_result"
    }
   ],
   "source": [
    "type(a1)"
   ]
  },
  {
   "cell_type": "code",
   "execution_count": 4,
   "id": "97d284ed",
   "metadata": {},
   "outputs": [],
   "source": [
    "# Multi dimensional, Names: Array, matrix || Shape = (2, 3) or (n, n)\n",
    "a2 = np.array([\n",
    "    [1, 2.0, 3.3],\n",
    "    [4, 5, 6.5]\n",
    "])\n",
    "\n",
    "# Multi dimensional, Names: Array, matrix || Shape = (2, 3, 3) or (n, n, n)\n",
    "a3 = np.array([\n",
    "    [[1,2,3],[4,5,6],[7,8,9]],\n",
    "    [[10,11,12],[13,14,15],[16,17,18]]\n",
    "])"
   ]
  },
  {
   "cell_type": "markdown",
   "id": "f4a9588f",
   "metadata": {},
   "source": [
    "### Axis || Dimension || Shape (Axis, Axis, ...):\n",
    "- Axis 0: Row || Vertical (Dimension 0 or d0)\n",
    "- Axis 1: Column || Horizontal (Dimension 1 or d1)\n",
    "- Axis n: n Dimension || Depth ((Dimension n or dn)"
   ]
  },
  {
   "cell_type": "code",
   "execution_count": 5,
   "id": "4fab23c0",
   "metadata": {},
   "outputs": [
    {
     "name": "stdout",
     "output_type": "stream",
     "text": [
      "a1.shape: (4,), a2.shape: (2, 3), a3.shape: (2, 3, 3)\n",
      "Dimensions: a1.ndim: 1, a2.ndim: 2, a3.ndim: 3\n"
     ]
    }
   ],
   "source": [
    "print(f\"a1.shape: {a1.shape}, a2.shape: {a2.shape}, a3.shape: {a3.shape}\")\n",
    "print(f\"Dimensions: a1.ndim: {a1.ndim}, a2.ndim: {a2.ndim}, a3.ndim: {a3.ndim}\")"
   ]
  },
  {
   "cell_type": "code",
   "execution_count": 6,
   "id": "a7574d29",
   "metadata": {},
   "outputs": [
    {
     "name": "stdout",
     "output_type": "stream",
     "text": [
      "a1.dtype: int64, a2.dtype: float64, a3.dtype: int64\n",
      "a1.size: 4, a2.size: 6, a3.size: 18\n"
     ]
    },
    {
     "data": {
      "text/plain": [
       "(numpy.ndarray, numpy.ndarray, numpy.ndarray)"
      ]
     },
     "execution_count": 6,
     "metadata": {},
     "output_type": "execute_result"
    }
   ],
   "source": [
    "# data types\n",
    "print(f\"a1.dtype: {a1.dtype}, a2.dtype: {a2.dtype}, a3.dtype: {a3.dtype}\")\n",
    "\n",
    "# element size\n",
    "print(f\"a1.size: {a1.size}, a2.size: {a2.size}, a3.size: {a3.size}\")\n",
    "type(a1), type(a2), type(a3) # all are numpy.ndarray"
   ]
  },
  {
   "cell_type": "markdown",
   "id": "2ecd031f",
   "metadata": {},
   "source": [
    "### DataFrame form a Numpy Array:"
   ]
  },
  {
   "cell_type": "code",
   "execution_count": 7,
   "id": "7cfec378",
   "metadata": {},
   "outputs": [
    {
     "data": {
      "text/html": [
       "<div>\n",
       "<style scoped>\n",
       "    .dataframe tbody tr th:only-of-type {\n",
       "        vertical-align: middle;\n",
       "    }\n",
       "\n",
       "    .dataframe tbody tr th {\n",
       "        vertical-align: top;\n",
       "    }\n",
       "\n",
       "    .dataframe thead th {\n",
       "        text-align: right;\n",
       "    }\n",
       "</style>\n",
       "<table border=\"1\" class=\"dataframe\">\n",
       "  <thead>\n",
       "    <tr style=\"text-align: right;\">\n",
       "      <th></th>\n",
       "      <th>0</th>\n",
       "      <th>1</th>\n",
       "      <th>2</th>\n",
       "    </tr>\n",
       "  </thead>\n",
       "  <tbody>\n",
       "    <tr>\n",
       "      <th>0</th>\n",
       "      <td>1.0</td>\n",
       "      <td>2.0</td>\n",
       "      <td>3.3</td>\n",
       "    </tr>\n",
       "    <tr>\n",
       "      <th>1</th>\n",
       "      <td>4.0</td>\n",
       "      <td>5.0</td>\n",
       "      <td>6.5</td>\n",
       "    </tr>\n",
       "  </tbody>\n",
       "</table>\n",
       "</div>"
      ],
      "text/plain": [
       "     0    1    2\n",
       "0  1.0  2.0  3.3\n",
       "1  4.0  5.0  6.5"
      ]
     },
     "execution_count": 7,
     "metadata": {},
     "output_type": "execute_result"
    }
   ],
   "source": [
    "import pandas as pd\n",
    "\n",
    "df = pd.DataFrame(a2)\n",
    "df"
   ]
  },
  {
   "cell_type": "markdown",
   "id": "33593e86",
   "metadata": {},
   "source": [
    "### Creating arrays:"
   ]
  },
  {
   "cell_type": "code",
   "execution_count": 8,
   "id": "b4e40823",
   "metadata": {},
   "outputs": [],
   "source": [
    "sample_array = np.array([1,2,3])"
   ]
  },
  {
   "cell_type": "code",
   "execution_count": 9,
   "id": "514c1069",
   "metadata": {},
   "outputs": [
    {
     "data": {
      "text/plain": [
       "array([[1., 1., 1.],\n",
       "       [1., 1., 1.]])"
      ]
     },
     "execution_count": 9,
     "metadata": {},
     "output_type": "execute_result"
    }
   ],
   "source": [
    "# shift + tab to get docs/prarms\n",
    "# Return a new array of given shape and type, filled with ones.\n",
    "ones = np.ones((2,3))\n",
    "ones"
   ]
  },
  {
   "cell_type": "code",
   "execution_count": 10,
   "id": "c33f1cda",
   "metadata": {},
   "outputs": [
    {
     "data": {
      "text/plain": [
       "dtype('float64')"
      ]
     },
     "execution_count": 10,
     "metadata": {},
     "output_type": "execute_result"
    }
   ],
   "source": [
    "ones.dtype"
   ]
  },
  {
   "cell_type": "code",
   "execution_count": 11,
   "id": "f36f2a00",
   "metadata": {},
   "outputs": [
    {
     "data": {
      "text/plain": [
       "array([[0., 0., 0.],\n",
       "       [0., 0., 0.],\n",
       "       [0., 0., 0.]])"
      ]
     },
     "execution_count": 11,
     "metadata": {},
     "output_type": "execute_result"
    }
   ],
   "source": [
    "zeros = np.zeros((3,3))\n",
    "zeros"
   ]
  },
  {
   "cell_type": "code",
   "execution_count": 12,
   "id": "ef9aa05a",
   "metadata": {},
   "outputs": [
    {
     "data": {
      "text/plain": [
       "array([0, 2, 4, 6, 8])"
      ]
     },
     "execution_count": 12,
     "metadata": {},
     "output_type": "execute_result"
    }
   ],
   "source": [
    "# ndarray from range\n",
    "# arange([start,] stop[, step,], dtype=None, *, like=None)\n",
    "range_array = np.arange(0, 10, 2)\n",
    "range_array"
   ]
  },
  {
   "cell_type": "code",
   "execution_count": 13,
   "id": "6bc26ec3",
   "metadata": {},
   "outputs": [
    {
     "data": {
      "text/plain": [
       "array([[4, 0, 5],\n",
       "       [6, 9, 6],\n",
       "       [9, 2, 3]])"
      ]
     },
     "execution_count": 13,
     "metadata": {},
     "output_type": "execute_result"
    }
   ],
   "source": [
    "# random ndarray: randint(low, high=None, size=None, dtype=int)\n",
    "random_array = np.random.randint(0, 10, (3,3))\n",
    "random_array"
   ]
  },
  {
   "cell_type": "code",
   "execution_count": 14,
   "id": "e12f4ae6",
   "metadata": {},
   "outputs": [
    {
     "data": {
      "text/plain": [
       "array([[[0.60157881, 0.99726202, 0.10268962],\n",
       "        [0.70698619, 0.19557572, 0.40390672]]])"
      ]
     },
     "execution_count": 14,
     "metadata": {},
     "output_type": "execute_result"
    }
   ],
   "source": [
    "# random ndarray: random(size=None)\n",
    "# Return random floats in the half-open interval [0.0, 1.0)\n",
    "random_arr_2 = np.random.random((1,2,3))\n",
    "random_arr_2"
   ]
  },
  {
   "cell_type": "code",
   "execution_count": 15,
   "id": "aa8c0410",
   "metadata": {},
   "outputs": [
    {
     "data": {
      "text/plain": [
       "(1, 2, 3)"
      ]
     },
     "execution_count": 15,
     "metadata": {},
     "output_type": "execute_result"
    }
   ],
   "source": [
    "random_arr_2.shape"
   ]
  },
  {
   "cell_type": "code",
   "execution_count": 16,
   "id": "efbb5295",
   "metadata": {},
   "outputs": [
    {
     "data": {
      "text/plain": [
       "array([[0.43168578, 0.09586547, 0.48868688],\n",
       "       [0.93030261, 0.44873464, 0.58415346],\n",
       "       [0.78813028, 0.58181453, 0.85515218],\n",
       "       [0.68655442, 0.58916819, 0.06672873]])"
      ]
     },
     "execution_count": 16,
     "metadata": {},
     "output_type": "execute_result"
    }
   ],
   "source": [
    "# random ndarray: rand(d0, d1, ..., dn)\n",
    "# Random values in a given shape.\n",
    "random_arr_3 = np.random.rand(4,3)\n",
    "random_arr_3"
   ]
  },
  {
   "cell_type": "markdown",
   "id": "11014d6b",
   "metadata": {},
   "source": [
    "### Seed || Same Random Numbers || Pseudo Random Numbers:"
   ]
  },
  {
   "cell_type": "code",
   "execution_count": 17,
   "id": "dea45f0b",
   "metadata": {},
   "outputs": [
    {
     "data": {
      "text/plain": [
       "array([[5, 0, 3, 3],\n",
       "       [7, 9, 3, 5],\n",
       "       [2, 4, 7, 6]])"
      ]
     },
     "execution_count": 17,
     "metadata": {},
     "output_type": "execute_result"
    }
   ],
   "source": [
    "# seed: Pseudo Random Numbers : Non-random random numbers\n",
    "# Reseed the singleton RandomState instance, so on same seed the numbers are identical\n",
    "np.random.seed(0)\n",
    "random_array_4 = np.random.randint(0, 10, (3,4))\n",
    "random_array_4"
   ]
  },
  {
   "cell_type": "code",
   "execution_count": 18,
   "id": "b3923882",
   "metadata": {},
   "outputs": [
    {
     "data": {
      "text/plain": [
       "array([[8, 8, 1, 6],\n",
       "       [7, 7, 8, 1],\n",
       "       [5, 9, 8, 9]])"
      ]
     },
     "execution_count": 18,
     "metadata": {},
     "output_type": "execute_result"
    }
   ],
   "source": [
    "# np.random.seed(7)\n",
    "# seed will only once for each underneth random fn\n",
    "random_array_5 = np.random.randint(0, 10, (3,4))\n",
    "random_array_5"
   ]
  },
  {
   "cell_type": "markdown",
   "id": "22ec423e",
   "metadata": {},
   "source": [
    "### Viewing arrays and matrices:"
   ]
  },
  {
   "cell_type": "code",
   "execution_count": 19,
   "id": "6d0f1ef8",
   "metadata": {},
   "outputs": [
    {
     "data": {
      "text/plain": [
       "array([0, 2, 3, 4, 5, 6, 7, 9])"
      ]
     },
     "execution_count": 19,
     "metadata": {},
     "output_type": "execute_result"
    }
   ],
   "source": [
    "# Find unique numbers from a NumPy array\n",
    "np.unique(random_array_4)"
   ]
  },
  {
   "cell_type": "code",
   "execution_count": 20,
   "id": "e7977a69",
   "metadata": {},
   "outputs": [
    {
     "data": {
      "text/plain": [
       "array([[[[4, 3, 0, 3, 5],\n",
       "         [0, 2, 3, 8, 1],\n",
       "         [3, 3, 3, 7, 0],\n",
       "         [1, 9, 9, 0, 4]],\n",
       "\n",
       "        [[7, 3, 2, 7, 2],\n",
       "         [0, 0, 4, 5, 5],\n",
       "         [6, 8, 4, 1, 4],\n",
       "         [9, 8, 1, 1, 7]],\n",
       "\n",
       "        [[9, 9, 3, 6, 7],\n",
       "         [2, 0, 3, 5, 9],\n",
       "         [4, 4, 6, 4, 4],\n",
       "         [3, 4, 4, 8, 4]]],\n",
       "\n",
       "\n",
       "       [[[3, 7, 5, 5, 0],\n",
       "         [1, 5, 9, 3, 0],\n",
       "         [5, 0, 1, 2, 4],\n",
       "         [2, 0, 3, 2, 0]],\n",
       "\n",
       "        [[7, 5, 9, 0, 2],\n",
       "         [7, 2, 9, 2, 3],\n",
       "         [3, 2, 3, 4, 1],\n",
       "         [2, 9, 1, 4, 6]],\n",
       "\n",
       "        [[8, 2, 3, 0, 0],\n",
       "         [6, 0, 6, 3, 3],\n",
       "         [8, 8, 8, 2, 3],\n",
       "         [2, 0, 8, 8, 3]]]])"
      ]
     },
     "execution_count": 20,
     "metadata": {},
     "output_type": "execute_result"
    }
   ],
   "source": [
    "# slicing and indexing array\n",
    "a3 = np.random.randint(10, size=(2,3,4,5))\n",
    "a3\n",
    "# count numbers from outer most size (5) to innermost indexes (5 elements) "
   ]
  },
  {
   "cell_type": "code",
   "execution_count": 21,
   "id": "14758477",
   "metadata": {},
   "outputs": [
    {
     "data": {
      "text/plain": [
       "array([[[[4, 3, 0, 3],\n",
       "         [0, 2, 3, 8],\n",
       "         [3, 3, 3, 7],\n",
       "         [1, 9, 9, 0]],\n",
       "\n",
       "        [[7, 3, 2, 7],\n",
       "         [0, 0, 4, 5],\n",
       "         [6, 8, 4, 1],\n",
       "         [9, 8, 1, 1]],\n",
       "\n",
       "        [[9, 9, 3, 6],\n",
       "         [2, 0, 3, 5],\n",
       "         [4, 4, 6, 4],\n",
       "         [3, 4, 4, 8]]],\n",
       "\n",
       "\n",
       "       [[[3, 7, 5, 5],\n",
       "         [1, 5, 9, 3],\n",
       "         [5, 0, 1, 2],\n",
       "         [2, 0, 3, 2]],\n",
       "\n",
       "        [[7, 5, 9, 0],\n",
       "         [7, 2, 9, 2],\n",
       "         [3, 2, 3, 4],\n",
       "         [2, 9, 1, 4]],\n",
       "\n",
       "        [[8, 2, 3, 0],\n",
       "         [6, 0, 6, 3],\n",
       "         [8, 8, 8, 2],\n",
       "         [2, 0, 8, 8]]]])"
      ]
     },
     "execution_count": 21,
     "metadata": {},
     "output_type": "execute_result"
    }
   ],
   "source": [
    "a3[:, :, :, :4]"
   ]
  },
  {
   "cell_type": "code",
   "execution_count": 22,
   "id": "ff8c692d",
   "metadata": {},
   "outputs": [
    {
     "data": {
      "text/plain": [
       "array([3, 7, 5, 5, 0])"
      ]
     },
     "execution_count": 22,
     "metadata": {},
     "output_type": "execute_result"
    }
   ],
   "source": [
    "a3[1][0][0]"
   ]
  },
  {
   "cell_type": "markdown",
   "id": "7e3ced89",
   "metadata": {},
   "source": [
    "### Manipulate Arrays (ndarrays) & comparing:\n",
    "- One dimension and One to Multi Dimension Arithmetic operation\n",
    "     - achieveable with any size and shape as long as one array is One Dimensional\n",
    "- Multi Dimensional Arrithmetic:\n",
    "     - Arithmetic Operations On Multidimension ndarray requires both to be same size and shape\n",
    "     - a2 * a3 will throw broadcasting error, as both are multidimensional and have different shape and size"
   ]
  },
  {
   "cell_type": "code",
   "execution_count": 37,
   "id": "d1a9ccdd",
   "metadata": {},
   "outputs": [
    {
     "data": {
      "text/plain": [
       "(array([2., 3., 4.]),\n",
       " array([2., 3., 4.]),\n",
       " array([0., 1., 2.]),\n",
       " array([1., 2., 3.]))"
      ]
     },
     "execution_count": 37,
     "metadata": {},
     "output_type": "execute_result"
    }
   ],
   "source": [
    "### Arithmetic : basic math operations on shame shape and size\n",
    "ones = np.ones(3)\n",
    "a1 = np.array([1,2,3])\n",
    "# addition\n",
    "a1 + ones, np.add(a1, ones), a1 - ones, a1 * ones"
   ]
  },
  {
   "cell_type": "code",
   "execution_count": 32,
   "id": "bf01c3b0",
   "metadata": {},
   "outputs": [
    {
     "data": {
      "text/plain": [
       "(array([1, 2, 3]),\n",
       " array([[1. , 2. , 3.3],\n",
       "        [4. , 5. , 6.5]]),\n",
       " array([[ 1. ,  4. ,  9.9],\n",
       "        [ 4. , 10. , 19.5]]))"
      ]
     },
     "execution_count": 32,
     "metadata": {},
     "output_type": "execute_result"
    }
   ],
   "source": [
    "# Arithmetic operations on different ndarray size and shape on 1 dimension\n",
    "a1, a2, a1 * a2"
   ]
  },
  {
   "cell_type": "code",
   "execution_count": 33,
   "id": "2c73f7d2",
   "metadata": {},
   "outputs": [],
   "source": [
    "# Arithmetic Operations On Multidimension ndarray requires both to be same size and shape\n",
    "# a2 * a3 will throw broadcasting error, as both are multidimensional and have different shape and size"
   ]
  },
  {
   "cell_type": "code",
   "execution_count": 34,
   "id": "99718f06",
   "metadata": {},
   "outputs": [
    {
     "data": {
      "text/plain": [
       "array([[ 1.  ,  4.  , 10.89],\n",
       "       [16.  , 25.  , 42.25]])"
      ]
     },
     "execution_count": 34,
     "metadata": {},
     "output_type": "execute_result"
    }
   ],
   "source": [
    "# Power\n",
    "a2 ** 2 # power of 2 || square"
   ]
  },
  {
   "cell_type": "code",
   "execution_count": 35,
   "id": "f008a415",
   "metadata": {},
   "outputs": [
    {
     "data": {
      "text/plain": [
       "array([[ 1.  ,  4.  , 10.89],\n",
       "       [16.  , 25.  , 42.25]])"
      ]
     },
     "execution_count": 35,
     "metadata": {},
     "output_type": "execute_result"
    }
   ],
   "source": [
    "np.square(a2)"
   ]
  },
  {
   "cell_type": "code",
   "execution_count": 39,
   "id": "713b45ad",
   "metadata": {},
   "outputs": [
    {
     "data": {
      "text/plain": [
       "array([[1. , 0. , 1.3],\n",
       "       [0. , 1. , 0.5]])"
      ]
     },
     "execution_count": 39,
     "metadata": {},
     "output_type": "execute_result"
    }
   ],
   "source": [
    "# Modulus operation\n",
    "a1, a2, a1 % 2, a2 % 2"
   ]
  },
  {
   "cell_type": "code",
   "execution_count": 56,
   "id": "24ace5af",
   "metadata": {},
   "outputs": [
    {
     "data": {
      "text/plain": [
       "(array([1, 2, 3]),\n",
       " array([ 2.71828183,  7.3890561 , 20.08553692]),\n",
       " array([2.71828183]),\n",
       " 2.71828183,\n",
       " array([7.3890561]),\n",
       " 7.389056107308149,\n",
       " array([20.08553692]),\n",
       " 20.08553695734627,\n",
       " array([2.71828183]))"
      ]
     },
     "execution_count": 56,
     "metadata": {},
     "output_type": "execute_result"
    }
   ],
   "source": [
    "# Exponential: 2.71828183 ** n\n",
    "np.exp([1,2,3]), np.exp([1]), 2.71828183 ** 1, np.exp([2]), 2.71828183 ** 2, np.exp([3]), 2.71828183 ** 3, np.exp([1])"
   ]
  },
  {
   "cell_type": "code",
   "execution_count": 48,
   "id": "e58e5773",
   "metadata": {},
   "outputs": [
    {
     "data": {
      "text/plain": [
       "(array([1.38629436]), array([1.38629436]), array([2.07944154]))"
      ]
     },
     "execution_count": 48,
     "metadata": {},
     "output_type": "execute_result"
    }
   ],
   "source": [
    "# Natural logarithm (ln) || base e (2.718281828459045) (Oposite of Exponential)\n",
    "np.log([4]), np.log([4]), np.log([8])\n",
    "# there are 2 more kinds of logarithm, common (base 10) and binary (base 2)"
   ]
  },
  {
   "cell_type": "code",
   "execution_count": null,
   "id": "6469d218",
   "metadata": {},
   "outputs": [],
   "source": []
  }
 ],
 "metadata": {
  "kernelspec": {
   "display_name": "Python 3 (ipykernel)",
   "language": "python",
   "name": "python3"
  },
  "language_info": {
   "codemirror_mode": {
    "name": "ipython",
    "version": 3
   },
   "file_extension": ".py",
   "mimetype": "text/x-python",
   "name": "python",
   "nbconvert_exporter": "python",
   "pygments_lexer": "ipython3",
   "version": "3.10.13"
  }
 },
 "nbformat": 4,
 "nbformat_minor": 5
}
