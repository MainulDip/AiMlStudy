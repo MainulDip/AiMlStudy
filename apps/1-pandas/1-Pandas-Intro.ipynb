{
 "cells": [
  {
   "cell_type": "code",
   "execution_count": 1,
   "id": "f9bb32ce",
   "metadata": {},
   "outputs": [],
   "source": [
    "import pandas as pd"
   ]
  },
  {
   "cell_type": "markdown",
   "id": "9e945043",
   "metadata": {},
   "source": [
    "### Pandas Data Types"
   ]
  },
  {
   "cell_type": "code",
   "execution_count": 2,
   "id": "a8d44187",
   "metadata": {},
   "outputs": [],
   "source": [
    "# 2 main datatypes Series (1 Dimensional) and DataFrame (2 Dimensional)\n",
    "series = pd.Series([\"BMW\", \"Toyota\", \"Honda\"])\n",
    "colors = pd.Series([\"Blue\", \"Red\", \"White\"]) "
   ]
  },
  {
   "cell_type": "code",
   "execution_count": 3,
   "id": "6ffeefa4",
   "metadata": {},
   "outputs": [
    {
     "data": {
      "text/plain": [
       "0       BMW\n",
       "1    Toyota\n",
       "2     Honda\n",
       "Name: Car make, dtype: object"
      ]
     },
     "execution_count": 3,
     "metadata": {},
     "output_type": "execute_result"
    }
   ],
   "source": [
    "# DataFrame = 2 dimensional\n",
    "car_data = pd.DataFrame({\"Car make\": series, \"Color\": colors})\n",
    "car_data[\"Car make\"]"
   ]
  },
  {
   "cell_type": "code",
   "execution_count": 4,
   "id": "2da4833b",
   "metadata": {},
   "outputs": [
    {
     "data": {
      "text/plain": [
       "0              BMW\n",
       "1    Mercedes-Benz\n",
       "2    Mercedes-Benz\n",
       "3             Audi\n",
       "4           Toyota\n",
       "Name: Brand, dtype: object"
      ]
     },
     "execution_count": 4,
     "metadata": {},
     "output_type": "execute_result"
    }
   ],
   "source": [
    "# Import data\n",
    "car_sales = pd.read_csv(\"car-sales.csv\")\n",
    "car_sales.Brand.head()"
   ]
  },
  {
   "cell_type": "code",
   "execution_count": 5,
   "id": "afaf43ce",
   "metadata": {},
   "outputs": [],
   "source": [
    "# Exporting a data frame\n",
    "# index = False to stop forced indexing of the csv rows\n",
    "car_sales.to_csv(\"exported-car-sales.csv\", index = False)\n",
    "# car_sales.to_exel(\"exported-car-sales.xl\")"
   ]
  },
  {
   "cell_type": "code",
   "execution_count": 6,
   "id": "653ac02d",
   "metadata": {},
   "outputs": [
    {
     "data": {
      "text/html": [
       "<div>\n",
       "<style scoped>\n",
       "    .dataframe tbody tr th:only-of-type {\n",
       "        vertical-align: middle;\n",
       "    }\n",
       "\n",
       "    .dataframe tbody tr th {\n",
       "        vertical-align: top;\n",
       "    }\n",
       "\n",
       "    .dataframe thead th {\n",
       "        text-align: right;\n",
       "    }\n",
       "</style>\n",
       "<table border=\"1\" class=\"dataframe\">\n",
       "  <thead>\n",
       "    <tr style=\"text-align: right;\">\n",
       "      <th></th>\n",
       "      <th>Brand</th>\n",
       "      <th>Price</th>\n",
       "      <th>Body</th>\n",
       "      <th>Mileage</th>\n",
       "      <th>EngineV</th>\n",
       "      <th>Engine Type</th>\n",
       "      <th>Registration</th>\n",
       "      <th>Year</th>\n",
       "      <th>Model</th>\n",
       "    </tr>\n",
       "  </thead>\n",
       "  <tbody>\n",
       "    <tr>\n",
       "      <th>0</th>\n",
       "      <td>BMW</td>\n",
       "      <td>4200.0</td>\n",
       "      <td>sedan</td>\n",
       "      <td>277</td>\n",
       "      <td>2.0</td>\n",
       "      <td>Petrol</td>\n",
       "      <td>yes</td>\n",
       "      <td>1991</td>\n",
       "      <td>320</td>\n",
       "    </tr>\n",
       "    <tr>\n",
       "      <th>1</th>\n",
       "      <td>Mercedes-Benz</td>\n",
       "      <td>7900.0</td>\n",
       "      <td>van</td>\n",
       "      <td>427</td>\n",
       "      <td>2.9</td>\n",
       "      <td>Diesel</td>\n",
       "      <td>yes</td>\n",
       "      <td>1999</td>\n",
       "      <td>Sprinter 212</td>\n",
       "    </tr>\n",
       "    <tr>\n",
       "      <th>2</th>\n",
       "      <td>Mercedes-Benz</td>\n",
       "      <td>13300.0</td>\n",
       "      <td>sedan</td>\n",
       "      <td>358</td>\n",
       "      <td>5.0</td>\n",
       "      <td>Gas</td>\n",
       "      <td>yes</td>\n",
       "      <td>2003</td>\n",
       "      <td>S 500</td>\n",
       "    </tr>\n",
       "    <tr>\n",
       "      <th>3</th>\n",
       "      <td>Audi</td>\n",
       "      <td>23000.0</td>\n",
       "      <td>crossover</td>\n",
       "      <td>240</td>\n",
       "      <td>4.2</td>\n",
       "      <td>Petrol</td>\n",
       "      <td>yes</td>\n",
       "      <td>2007</td>\n",
       "      <td>Q7</td>\n",
       "    </tr>\n",
       "    <tr>\n",
       "      <th>4</th>\n",
       "      <td>Toyota</td>\n",
       "      <td>18300.0</td>\n",
       "      <td>crossover</td>\n",
       "      <td>120</td>\n",
       "      <td>2.0</td>\n",
       "      <td>Petrol</td>\n",
       "      <td>yes</td>\n",
       "      <td>2011</td>\n",
       "      <td>Rav 4</td>\n",
       "    </tr>\n",
       "  </tbody>\n",
       "</table>\n",
       "</div>"
      ],
      "text/plain": [
       "           Brand    Price       Body  Mileage  EngineV Engine Type  \\\n",
       "0            BMW   4200.0      sedan      277      2.0      Petrol   \n",
       "1  Mercedes-Benz   7900.0        van      427      2.9      Diesel   \n",
       "2  Mercedes-Benz  13300.0      sedan      358      5.0         Gas   \n",
       "3           Audi  23000.0  crossover      240      4.2      Petrol   \n",
       "4         Toyota  18300.0  crossover      120      2.0      Petrol   \n",
       "\n",
       "  Registration  Year         Model  \n",
       "0          yes  1991           320  \n",
       "1          yes  1999  Sprinter 212  \n",
       "2          yes  2003         S 500  \n",
       "3          yes  2007            Q7  \n",
       "4          yes  2011         Rav 4  "
      ]
     },
     "execution_count": 6,
     "metadata": {},
     "output_type": "execute_result"
    }
   ],
   "source": [
    "# import exported csv\n",
    "car_sales_exported = pd.read_csv(\"exported-car-sales.csv\")\n",
    "car_sales_exported.head()"
   ]
  },
  {
   "cell_type": "markdown",
   "id": "a2d7c6f0",
   "metadata": {},
   "source": [
    "### Attributes and Functions:"
   ]
  },
  {
   "cell_type": "code",
   "execution_count": 7,
   "id": "3df3c2c9",
   "metadata": {},
   "outputs": [
    {
     "data": {
      "text/plain": [
       "Brand            object\n",
       "Price           float64\n",
       "Body             object\n",
       "Mileage           int64\n",
       "EngineV         float64\n",
       "Engine Type      object\n",
       "Registration     object\n",
       "Year              int64\n",
       "Model            object\n",
       "dtype: object"
      ]
     },
     "execution_count": 7,
     "metadata": {},
     "output_type": "execute_result"
    }
   ],
   "source": [
    "# Attribute / Prop : extra info about (properties of) a data frame (Object)\n",
    "car_sales.dtypes"
   ]
  },
  {
   "cell_type": "code",
   "execution_count": 8,
   "id": "581472c4",
   "metadata": {},
   "outputs": [
    {
     "data": {
      "text/plain": [
       "Index(['Brand', 'Price', 'Body', 'Mileage', 'EngineV', 'Engine Type',\n",
       "       'Registration', 'Year', 'Model'],\n",
       "      dtype='object')"
      ]
     },
     "execution_count": 8,
     "metadata": {},
     "output_type": "execute_result"
    }
   ],
   "source": [
    "car_sales.columns"
   ]
  },
  {
   "cell_type": "code",
   "execution_count": 9,
   "id": "5f7fd3e9",
   "metadata": {},
   "outputs": [
    {
     "data": {
      "text/plain": [
       "RangeIndex(start=0, stop=4345, step=1)"
      ]
     },
     "execution_count": 9,
     "metadata": {},
     "output_type": "execute_result"
    }
   ],
   "source": [
    "car_sales.index"
   ]
  },
  {
   "cell_type": "code",
   "execution_count": 10,
   "id": "2a4bbb97",
   "metadata": {},
   "outputs": [
    {
     "data": {
      "text/html": [
       "<div>\n",
       "<style scoped>\n",
       "    .dataframe tbody tr th:only-of-type {\n",
       "        vertical-align: middle;\n",
       "    }\n",
       "\n",
       "    .dataframe tbody tr th {\n",
       "        vertical-align: top;\n",
       "    }\n",
       "\n",
       "    .dataframe thead th {\n",
       "        text-align: right;\n",
       "    }\n",
       "</style>\n",
       "<table border=\"1\" class=\"dataframe\">\n",
       "  <thead>\n",
       "    <tr style=\"text-align: right;\">\n",
       "      <th></th>\n",
       "      <th>Price</th>\n",
       "      <th>Mileage</th>\n",
       "      <th>EngineV</th>\n",
       "      <th>Year</th>\n",
       "    </tr>\n",
       "  </thead>\n",
       "  <tbody>\n",
       "    <tr>\n",
       "      <th>count</th>\n",
       "      <td>4173.000000</td>\n",
       "      <td>4345.000000</td>\n",
       "      <td>4195.000000</td>\n",
       "      <td>4345.000000</td>\n",
       "    </tr>\n",
       "    <tr>\n",
       "      <th>mean</th>\n",
       "      <td>19418.746935</td>\n",
       "      <td>161.237284</td>\n",
       "      <td>2.790734</td>\n",
       "      <td>2006.550058</td>\n",
       "    </tr>\n",
       "    <tr>\n",
       "      <th>std</th>\n",
       "      <td>25584.242620</td>\n",
       "      <td>105.705797</td>\n",
       "      <td>5.066437</td>\n",
       "      <td>6.719097</td>\n",
       "    </tr>\n",
       "    <tr>\n",
       "      <th>min</th>\n",
       "      <td>600.000000</td>\n",
       "      <td>0.000000</td>\n",
       "      <td>0.600000</td>\n",
       "      <td>1969.000000</td>\n",
       "    </tr>\n",
       "    <tr>\n",
       "      <th>25%</th>\n",
       "      <td>6999.000000</td>\n",
       "      <td>86.000000</td>\n",
       "      <td>1.800000</td>\n",
       "      <td>2003.000000</td>\n",
       "    </tr>\n",
       "    <tr>\n",
       "      <th>50%</th>\n",
       "      <td>11500.000000</td>\n",
       "      <td>155.000000</td>\n",
       "      <td>2.200000</td>\n",
       "      <td>2008.000000</td>\n",
       "    </tr>\n",
       "    <tr>\n",
       "      <th>75%</th>\n",
       "      <td>21700.000000</td>\n",
       "      <td>230.000000</td>\n",
       "      <td>3.000000</td>\n",
       "      <td>2012.000000</td>\n",
       "    </tr>\n",
       "    <tr>\n",
       "      <th>max</th>\n",
       "      <td>300000.000000</td>\n",
       "      <td>980.000000</td>\n",
       "      <td>99.990000</td>\n",
       "      <td>2016.000000</td>\n",
       "    </tr>\n",
       "  </tbody>\n",
       "</table>\n",
       "</div>"
      ],
      "text/plain": [
       "               Price      Mileage      EngineV         Year\n",
       "count    4173.000000  4345.000000  4195.000000  4345.000000\n",
       "mean    19418.746935   161.237284     2.790734  2006.550058\n",
       "std     25584.242620   105.705797     5.066437     6.719097\n",
       "min       600.000000     0.000000     0.600000  1969.000000\n",
       "25%      6999.000000    86.000000     1.800000  2003.000000\n",
       "50%     11500.000000   155.000000     2.200000  2008.000000\n",
       "75%     21700.000000   230.000000     3.000000  2012.000000\n",
       "max    300000.000000   980.000000    99.990000  2016.000000"
      ]
     },
     "execution_count": 10,
     "metadata": {},
     "output_type": "execute_result"
    }
   ],
   "source": [
    "# Function : operations on data frame\n",
    "car_sales.describe()"
   ]
  },
  {
   "cell_type": "code",
   "execution_count": 11,
   "id": "3f044484",
   "metadata": {},
   "outputs": [
    {
     "name": "stdout",
     "output_type": "stream",
     "text": [
      "<class 'pandas.core.frame.DataFrame'>\n",
      "RangeIndex: 4345 entries, 0 to 4344\n",
      "Data columns (total 9 columns):\n",
      " #   Column        Non-Null Count  Dtype  \n",
      "---  ------        --------------  -----  \n",
      " 0   Brand         4345 non-null   object \n",
      " 1   Price         4173 non-null   float64\n",
      " 2   Body          4345 non-null   object \n",
      " 3   Mileage       4345 non-null   int64  \n",
      " 4   EngineV       4195 non-null   float64\n",
      " 5   Engine Type   4345 non-null   object \n",
      " 6   Registration  4345 non-null   object \n",
      " 7   Year          4345 non-null   int64  \n",
      " 8   Model         4345 non-null   object \n",
      "dtypes: float64(2), int64(2), object(5)\n",
      "memory usage: 305.6+ KB\n"
     ]
    }
   ],
   "source": [
    "car_sales.info()"
   ]
  },
  {
   "cell_type": "code",
   "execution_count": 12,
   "id": "3046a6bd",
   "metadata": {},
   "outputs": [
    {
     "data": {
      "text/plain": [
       "19418.746935058713"
      ]
     },
     "execution_count": 12,
     "metadata": {},
     "output_type": "execute_result"
    }
   ],
   "source": [
    "# avarages\n",
    "car_sales.Price.mean()"
   ]
  },
  {
   "cell_type": "code",
   "execution_count": 13,
   "id": "8ed09360",
   "metadata": {},
   "outputs": [
    {
     "data": {
      "text/plain": [
       "81034430.96000001"
      ]
     },
     "execution_count": 13,
     "metadata": {},
     "output_type": "execute_result"
    }
   ],
   "source": [
    "car_sales.Price.sum()"
   ]
  },
  {
   "cell_type": "code",
   "execution_count": 14,
   "id": "cf5b074b",
   "metadata": {},
   "outputs": [
    {
     "data": {
      "text/plain": [
       "81034430.96000001"
      ]
     },
     "execution_count": 14,
     "metadata": {},
     "output_type": "execute_result"
    }
   ],
   "source": [
    "car_sales[\"Price\"].sum()"
   ]
  },
  {
   "cell_type": "code",
   "execution_count": 15,
   "id": "7aa7896e",
   "metadata": {},
   "outputs": [
    {
     "data": {
      "text/plain": [
       "4345"
      ]
     },
     "execution_count": 15,
     "metadata": {},
     "output_type": "execute_result"
    }
   ],
   "source": [
    "len(car_sales)"
   ]
  },
  {
   "cell_type": "code",
   "execution_count": 16,
   "id": "36dbee84",
   "metadata": {},
   "outputs": [
    {
     "data": {
      "text/html": [
       "<div>\n",
       "<style scoped>\n",
       "    .dataframe tbody tr th:only-of-type {\n",
       "        vertical-align: middle;\n",
       "    }\n",
       "\n",
       "    .dataframe tbody tr th {\n",
       "        vertical-align: top;\n",
       "    }\n",
       "\n",
       "    .dataframe thead th {\n",
       "        text-align: right;\n",
       "    }\n",
       "</style>\n",
       "<table border=\"1\" class=\"dataframe\">\n",
       "  <thead>\n",
       "    <tr style=\"text-align: right;\">\n",
       "      <th></th>\n",
       "      <th>Brand</th>\n",
       "      <th>Price</th>\n",
       "      <th>Body</th>\n",
       "      <th>Mileage</th>\n",
       "      <th>EngineV</th>\n",
       "      <th>Engine Type</th>\n",
       "      <th>Registration</th>\n",
       "      <th>Year</th>\n",
       "      <th>Model</th>\n",
       "    </tr>\n",
       "  </thead>\n",
       "  <tbody>\n",
       "    <tr>\n",
       "      <th>4340</th>\n",
       "      <td>Mercedes-Benz</td>\n",
       "      <td>125000.0</td>\n",
       "      <td>sedan</td>\n",
       "      <td>9</td>\n",
       "      <td>3.0</td>\n",
       "      <td>Diesel</td>\n",
       "      <td>yes</td>\n",
       "      <td>2014</td>\n",
       "      <td>S 350</td>\n",
       "    </tr>\n",
       "    <tr>\n",
       "      <th>4341</th>\n",
       "      <td>BMW</td>\n",
       "      <td>6500.0</td>\n",
       "      <td>sedan</td>\n",
       "      <td>1</td>\n",
       "      <td>3.5</td>\n",
       "      <td>Petrol</td>\n",
       "      <td>yes</td>\n",
       "      <td>1999</td>\n",
       "      <td>535</td>\n",
       "    </tr>\n",
       "    <tr>\n",
       "      <th>4342</th>\n",
       "      <td>BMW</td>\n",
       "      <td>8000.0</td>\n",
       "      <td>sedan</td>\n",
       "      <td>194</td>\n",
       "      <td>2.0</td>\n",
       "      <td>Petrol</td>\n",
       "      <td>yes</td>\n",
       "      <td>1985</td>\n",
       "      <td>520</td>\n",
       "    </tr>\n",
       "    <tr>\n",
       "      <th>4343</th>\n",
       "      <td>Toyota</td>\n",
       "      <td>14200.0</td>\n",
       "      <td>sedan</td>\n",
       "      <td>31</td>\n",
       "      <td>NaN</td>\n",
       "      <td>Petrol</td>\n",
       "      <td>yes</td>\n",
       "      <td>2014</td>\n",
       "      <td>Corolla</td>\n",
       "    </tr>\n",
       "    <tr>\n",
       "      <th>4344</th>\n",
       "      <td>Volkswagen</td>\n",
       "      <td>13500.0</td>\n",
       "      <td>van</td>\n",
       "      <td>124</td>\n",
       "      <td>2.0</td>\n",
       "      <td>Diesel</td>\n",
       "      <td>yes</td>\n",
       "      <td>2013</td>\n",
       "      <td>T5 (Transporter)</td>\n",
       "    </tr>\n",
       "  </tbody>\n",
       "</table>\n",
       "</div>"
      ],
      "text/plain": [
       "              Brand     Price   Body  Mileage  EngineV Engine Type  \\\n",
       "4340  Mercedes-Benz  125000.0  sedan        9      3.0      Diesel   \n",
       "4341            BMW    6500.0  sedan        1      3.5      Petrol   \n",
       "4342            BMW    8000.0  sedan      194      2.0      Petrol   \n",
       "4343         Toyota   14200.0  sedan       31      NaN      Petrol   \n",
       "4344     Volkswagen   13500.0    van      124      2.0      Diesel   \n",
       "\n",
       "     Registration  Year              Model  \n",
       "4340          yes  2014              S 350  \n",
       "4341          yes  1999                535  \n",
       "4342          yes  1985                520  \n",
       "4343          yes  2014            Corolla  \n",
       "4344          yes  2013  T5 (Transporter)   "
      ]
     },
     "execution_count": 16,
     "metadata": {},
     "output_type": "execute_result"
    }
   ],
   "source": [
    "# last data of a data frame\n",
    "car_sales.tail()"
   ]
  },
  {
   "cell_type": "code",
   "execution_count": 17,
   "id": "9c5b7859",
   "metadata": {},
   "outputs": [
    {
     "name": "stdout",
     "output_type": "stream",
     "text": [
      "Red White Blue\n"
     ]
    }
   ],
   "source": [
    "# .loc & .iloc : Getting data from location id and index location\n",
    "print(colors.loc[1], colors.loc[2], colors.loc[0])"
   ]
  },
  {
   "cell_type": "code",
   "execution_count": 18,
   "id": "c3991e7b",
   "metadata": {},
   "outputs": [
    {
     "data": {
      "text/html": [
       "<div>\n",
       "<style scoped>\n",
       "    .dataframe tbody tr th:only-of-type {\n",
       "        vertical-align: middle;\n",
       "    }\n",
       "\n",
       "    .dataframe tbody tr th {\n",
       "        vertical-align: top;\n",
       "    }\n",
       "\n",
       "    .dataframe thead th {\n",
       "        text-align: right;\n",
       "    }\n",
       "</style>\n",
       "<table border=\"1\" class=\"dataframe\">\n",
       "  <thead>\n",
       "    <tr style=\"text-align: right;\">\n",
       "      <th></th>\n",
       "      <th>Brand</th>\n",
       "      <th>Price</th>\n",
       "      <th>Body</th>\n",
       "      <th>Mileage</th>\n",
       "      <th>EngineV</th>\n",
       "      <th>Engine Type</th>\n",
       "      <th>Registration</th>\n",
       "      <th>Year</th>\n",
       "      <th>Model</th>\n",
       "    </tr>\n",
       "  </thead>\n",
       "  <tbody>\n",
       "    <tr>\n",
       "      <th>0</th>\n",
       "      <td>BMW</td>\n",
       "      <td>4200.0</td>\n",
       "      <td>sedan</td>\n",
       "      <td>277</td>\n",
       "      <td>2.0</td>\n",
       "      <td>Petrol</td>\n",
       "      <td>yes</td>\n",
       "      <td>1991</td>\n",
       "      <td>320</td>\n",
       "    </tr>\n",
       "    <tr>\n",
       "      <th>1</th>\n",
       "      <td>Mercedes-Benz</td>\n",
       "      <td>7900.0</td>\n",
       "      <td>van</td>\n",
       "      <td>427</td>\n",
       "      <td>2.9</td>\n",
       "      <td>Diesel</td>\n",
       "      <td>yes</td>\n",
       "      <td>1999</td>\n",
       "      <td>Sprinter 212</td>\n",
       "    </tr>\n",
       "    <tr>\n",
       "      <th>2</th>\n",
       "      <td>Mercedes-Benz</td>\n",
       "      <td>13300.0</td>\n",
       "      <td>sedan</td>\n",
       "      <td>358</td>\n",
       "      <td>5.0</td>\n",
       "      <td>Gas</td>\n",
       "      <td>yes</td>\n",
       "      <td>2003</td>\n",
       "      <td>S 500</td>\n",
       "    </tr>\n",
       "    <tr>\n",
       "      <th>3</th>\n",
       "      <td>Audi</td>\n",
       "      <td>23000.0</td>\n",
       "      <td>crossover</td>\n",
       "      <td>240</td>\n",
       "      <td>4.2</td>\n",
       "      <td>Petrol</td>\n",
       "      <td>yes</td>\n",
       "      <td>2007</td>\n",
       "      <td>Q7</td>\n",
       "    </tr>\n",
       "    <tr>\n",
       "      <th>4</th>\n",
       "      <td>Toyota</td>\n",
       "      <td>18300.0</td>\n",
       "      <td>crossover</td>\n",
       "      <td>120</td>\n",
       "      <td>2.0</td>\n",
       "      <td>Petrol</td>\n",
       "      <td>yes</td>\n",
       "      <td>2011</td>\n",
       "      <td>Rav 4</td>\n",
       "    </tr>\n",
       "    <tr>\n",
       "      <th>5</th>\n",
       "      <td>Mercedes-Benz</td>\n",
       "      <td>199999.0</td>\n",
       "      <td>crossover</td>\n",
       "      <td>0</td>\n",
       "      <td>5.5</td>\n",
       "      <td>Petrol</td>\n",
       "      <td>yes</td>\n",
       "      <td>2016</td>\n",
       "      <td>GLS 63</td>\n",
       "    </tr>\n",
       "    <tr>\n",
       "      <th>6</th>\n",
       "      <td>BMW</td>\n",
       "      <td>6100.0</td>\n",
       "      <td>sedan</td>\n",
       "      <td>438</td>\n",
       "      <td>2.0</td>\n",
       "      <td>Gas</td>\n",
       "      <td>yes</td>\n",
       "      <td>1997</td>\n",
       "      <td>320</td>\n",
       "    </tr>\n",
       "  </tbody>\n",
       "</table>\n",
       "</div>"
      ],
      "text/plain": [
       "           Brand     Price       Body  Mileage  EngineV Engine Type  \\\n",
       "0            BMW    4200.0      sedan      277      2.0      Petrol   \n",
       "1  Mercedes-Benz    7900.0        van      427      2.9      Diesel   \n",
       "2  Mercedes-Benz   13300.0      sedan      358      5.0         Gas   \n",
       "3           Audi   23000.0  crossover      240      4.2      Petrol   \n",
       "4         Toyota   18300.0  crossover      120      2.0      Petrol   \n",
       "5  Mercedes-Benz  199999.0  crossover        0      5.5      Petrol   \n",
       "6            BMW    6100.0      sedan      438      2.0         Gas   \n",
       "\n",
       "  Registration  Year         Model  \n",
       "0          yes  1991           320  \n",
       "1          yes  1999  Sprinter 212  \n",
       "2          yes  2003         S 500  \n",
       "3          yes  2007            Q7  \n",
       "4          yes  2011         Rav 4  \n",
       "5          yes  2016        GLS 63  \n",
       "6          yes  1997           320  "
      ]
     },
     "execution_count": 18,
     "metadata": {},
     "output_type": "execute_result"
    }
   ],
   "source": [
    "# Slice Operation\n",
    "car_sales[:7]"
   ]
  },
  {
   "cell_type": "markdown",
   "id": "0c0280a3",
   "metadata": {},
   "source": [
    "### Accessing Column [] vs ."
   ]
  },
  {
   "cell_type": "code",
   "execution_count": 19,
   "id": "1bbf4f3d",
   "metadata": {},
   "outputs": [
    {
     "data": {
      "text/plain": [
       "0              BMW\n",
       "1    Mercedes-Benz\n",
       "2    Mercedes-Benz\n",
       "3             Audi\n",
       "4           Toyota\n",
       "Name: Brand, dtype: object"
      ]
     },
     "execution_count": 19,
     "metadata": {},
     "output_type": "execute_result"
    }
   ],
   "source": [
    "# dot notation is only possible with column name with no space\n",
    "car_sales.Brand.head()"
   ]
  },
  {
   "cell_type": "code",
   "execution_count": 21,
   "id": "53c5f5db",
   "metadata": {},
   "outputs": [
    {
     "data": {
      "text/plain": [
       "0    Petrol\n",
       "1    Diesel\n",
       "2       Gas\n",
       "3    Petrol\n",
       "4    Petrol\n",
       "Name: Engine Type, dtype: object"
      ]
     },
     "execution_count": 21,
     "metadata": {},
     "output_type": "execute_result"
    }
   ],
   "source": [
    "# [] notation can receive column name with space\n",
    "car_sales[\"Engine Type\"].head()"
   ]
  },
  {
   "cell_type": "markdown",
   "id": "b8976112",
   "metadata": {},
   "source": [
    "### Filtering || Boolean indexing:\n",
    "Show data from a data frame with matching condition"
   ]
  },
  {
   "cell_type": "code",
   "execution_count": 23,
   "id": "b24e12e6",
   "metadata": {},
   "outputs": [
    {
     "data": {
      "text/html": [
       "<div>\n",
       "<style scoped>\n",
       "    .dataframe tbody tr th:only-of-type {\n",
       "        vertical-align: middle;\n",
       "    }\n",
       "\n",
       "    .dataframe tbody tr th {\n",
       "        vertical-align: top;\n",
       "    }\n",
       "\n",
       "    .dataframe thead th {\n",
       "        text-align: right;\n",
       "    }\n",
       "</style>\n",
       "<table border=\"1\" class=\"dataframe\">\n",
       "  <thead>\n",
       "    <tr style=\"text-align: right;\">\n",
       "      <th></th>\n",
       "      <th>Brand</th>\n",
       "      <th>Price</th>\n",
       "      <th>Body</th>\n",
       "      <th>Mileage</th>\n",
       "      <th>EngineV</th>\n",
       "      <th>Engine Type</th>\n",
       "      <th>Registration</th>\n",
       "      <th>Year</th>\n",
       "      <th>Model</th>\n",
       "    </tr>\n",
       "  </thead>\n",
       "  <tbody>\n",
       "    <tr>\n",
       "      <th>4</th>\n",
       "      <td>Toyota</td>\n",
       "      <td>18300.0</td>\n",
       "      <td>crossover</td>\n",
       "      <td>120</td>\n",
       "      <td>2.0</td>\n",
       "      <td>Petrol</td>\n",
       "      <td>yes</td>\n",
       "      <td>2011</td>\n",
       "      <td>Rav 4</td>\n",
       "    </tr>\n",
       "    <tr>\n",
       "      <th>14</th>\n",
       "      <td>Toyota</td>\n",
       "      <td>16000.0</td>\n",
       "      <td>crossover</td>\n",
       "      <td>250</td>\n",
       "      <td>4.7</td>\n",
       "      <td>Gas</td>\n",
       "      <td>yes</td>\n",
       "      <td>2001</td>\n",
       "      <td>Land Cruiser 100</td>\n",
       "    </tr>\n",
       "    <tr>\n",
       "      <th>18</th>\n",
       "      <td>Toyota</td>\n",
       "      <td>26500.0</td>\n",
       "      <td>crossover</td>\n",
       "      <td>21</td>\n",
       "      <td>2.0</td>\n",
       "      <td>Petrol</td>\n",
       "      <td>yes</td>\n",
       "      <td>2013</td>\n",
       "      <td>Rav 4</td>\n",
       "    </tr>\n",
       "    <tr>\n",
       "      <th>20</th>\n",
       "      <td>Toyota</td>\n",
       "      <td>38233.0</td>\n",
       "      <td>other</td>\n",
       "      <td>0</td>\n",
       "      <td>2.4</td>\n",
       "      <td>Diesel</td>\n",
       "      <td>yes</td>\n",
       "      <td>2016</td>\n",
       "      <td>Hilux</td>\n",
       "    </tr>\n",
       "    <tr>\n",
       "      <th>35</th>\n",
       "      <td>Toyota</td>\n",
       "      <td>14500.0</td>\n",
       "      <td>sedan</td>\n",
       "      <td>147</td>\n",
       "      <td>2.4</td>\n",
       "      <td>Gas</td>\n",
       "      <td>yes</td>\n",
       "      <td>2006</td>\n",
       "      <td>Camry</td>\n",
       "    </tr>\n",
       "  </tbody>\n",
       "</table>\n",
       "</div>"
      ],
      "text/plain": [
       "     Brand    Price       Body  Mileage  EngineV Engine Type Registration  \\\n",
       "4   Toyota  18300.0  crossover      120      2.0      Petrol          yes   \n",
       "14  Toyota  16000.0  crossover      250      4.7         Gas          yes   \n",
       "18  Toyota  26500.0  crossover       21      2.0      Petrol          yes   \n",
       "20  Toyota  38233.0      other        0      2.4      Diesel          yes   \n",
       "35  Toyota  14500.0      sedan      147      2.4         Gas          yes   \n",
       "\n",
       "    Year             Model  \n",
       "4   2011             Rav 4  \n",
       "14  2001  Land Cruiser 100  \n",
       "18  2013             Rav 4  \n",
       "20  2016             Hilux  \n",
       "35  2006             Camry  "
      ]
     },
     "execution_count": 23,
     "metadata": {},
     "output_type": "execute_result"
    }
   ],
   "source": [
    "# Showing car sales data where Column \"Brand\" is only \"Toyota\"\n",
    "car_sales[car_sales[\"Brand\"] == \"Toyota\"].head()"
   ]
  },
  {
   "cell_type": "code",
   "execution_count": 24,
   "id": "3a0fc455",
   "metadata": {},
   "outputs": [
    {
     "data": {
      "text/html": [
       "<div>\n",
       "<style scoped>\n",
       "    .dataframe tbody tr th:only-of-type {\n",
       "        vertical-align: middle;\n",
       "    }\n",
       "\n",
       "    .dataframe tbody tr th {\n",
       "        vertical-align: top;\n",
       "    }\n",
       "\n",
       "    .dataframe thead th {\n",
       "        text-align: right;\n",
       "    }\n",
       "</style>\n",
       "<table border=\"1\" class=\"dataframe\">\n",
       "  <thead>\n",
       "    <tr style=\"text-align: right;\">\n",
       "      <th></th>\n",
       "      <th>Brand</th>\n",
       "      <th>Price</th>\n",
       "      <th>Body</th>\n",
       "      <th>Mileage</th>\n",
       "      <th>EngineV</th>\n",
       "      <th>Engine Type</th>\n",
       "      <th>Registration</th>\n",
       "      <th>Year</th>\n",
       "      <th>Model</th>\n",
       "    </tr>\n",
       "  </thead>\n",
       "  <tbody>\n",
       "    <tr>\n",
       "      <th>1</th>\n",
       "      <td>Mercedes-Benz</td>\n",
       "      <td>7900.0</td>\n",
       "      <td>van</td>\n",
       "      <td>427</td>\n",
       "      <td>2.9</td>\n",
       "      <td>Diesel</td>\n",
       "      <td>yes</td>\n",
       "      <td>1999</td>\n",
       "      <td>Sprinter 212</td>\n",
       "    </tr>\n",
       "    <tr>\n",
       "      <th>2</th>\n",
       "      <td>Mercedes-Benz</td>\n",
       "      <td>13300.0</td>\n",
       "      <td>sedan</td>\n",
       "      <td>358</td>\n",
       "      <td>5.0</td>\n",
       "      <td>Gas</td>\n",
       "      <td>yes</td>\n",
       "      <td>2003</td>\n",
       "      <td>S 500</td>\n",
       "    </tr>\n",
       "    <tr>\n",
       "      <th>6</th>\n",
       "      <td>BMW</td>\n",
       "      <td>6100.0</td>\n",
       "      <td>sedan</td>\n",
       "      <td>438</td>\n",
       "      <td>2.0</td>\n",
       "      <td>Gas</td>\n",
       "      <td>yes</td>\n",
       "      <td>1997</td>\n",
       "      <td>320</td>\n",
       "    </tr>\n",
       "    <tr>\n",
       "      <th>26</th>\n",
       "      <td>Audi</td>\n",
       "      <td>6500.0</td>\n",
       "      <td>sedan</td>\n",
       "      <td>330</td>\n",
       "      <td>2.4</td>\n",
       "      <td>Petrol</td>\n",
       "      <td>yes</td>\n",
       "      <td>1999</td>\n",
       "      <td>A6</td>\n",
       "    </tr>\n",
       "    <tr>\n",
       "      <th>42</th>\n",
       "      <td>BMW</td>\n",
       "      <td>7700.0</td>\n",
       "      <td>sedan</td>\n",
       "      <td>326</td>\n",
       "      <td>2.8</td>\n",
       "      <td>Petrol</td>\n",
       "      <td>yes</td>\n",
       "      <td>1998</td>\n",
       "      <td>528</td>\n",
       "    </tr>\n",
       "  </tbody>\n",
       "</table>\n",
       "</div>"
      ],
      "text/plain": [
       "            Brand    Price   Body  Mileage  EngineV Engine Type Registration  \\\n",
       "1   Mercedes-Benz   7900.0    van      427      2.9      Diesel          yes   \n",
       "2   Mercedes-Benz  13300.0  sedan      358      5.0         Gas          yes   \n",
       "6             BMW   6100.0  sedan      438      2.0         Gas          yes   \n",
       "26           Audi   6500.0  sedan      330      2.4      Petrol          yes   \n",
       "42            BMW   7700.0  sedan      326      2.8      Petrol          yes   \n",
       "\n",
       "    Year         Model  \n",
       "1   1999  Sprinter 212  \n",
       "2   2003         S 500  \n",
       "6   1997           320  \n",
       "26  1999            A6  \n",
       "42  1998           528  "
      ]
     },
     "execution_count": 24,
     "metadata": {},
     "output_type": "execute_result"
    }
   ],
   "source": [
    "car_sales[car_sales[\"Mileage\"] > 321].head()"
   ]
  },
  {
   "cell_type": "markdown",
   "id": "d96e44a7",
   "metadata": {},
   "source": [
    " ### Comparing Columns:"
   ]
  },
  {
   "cell_type": "code",
   "execution_count": 25,
   "id": "c3caf9b4",
   "metadata": {},
   "outputs": [
    {
     "data": {
      "text/html": [
       "<div>\n",
       "<style scoped>\n",
       "    .dataframe tbody tr th:only-of-type {\n",
       "        vertical-align: middle;\n",
       "    }\n",
       "\n",
       "    .dataframe tbody tr th {\n",
       "        vertical-align: top;\n",
       "    }\n",
       "\n",
       "    .dataframe thead th {\n",
       "        text-align: right;\n",
       "    }\n",
       "</style>\n",
       "<table border=\"1\" class=\"dataframe\">\n",
       "  <thead>\n",
       "    <tr style=\"text-align: right;\">\n",
       "      <th>Price</th>\n",
       "      <th>600.00</th>\n",
       "      <th>800.00</th>\n",
       "      <th>999.00</th>\n",
       "      <th>1100.00</th>\n",
       "      <th>1150.00</th>\n",
       "      <th>1180.00</th>\n",
       "      <th>1185.60</th>\n",
       "      <th>1199.00</th>\n",
       "      <th>1200.00</th>\n",
       "      <th>1296.75</th>\n",
       "      <th>...</th>\n",
       "      <th>189999.00</th>\n",
       "      <th>195000.00</th>\n",
       "      <th>199999.00</th>\n",
       "      <th>200000.00</th>\n",
       "      <th>219900.00</th>\n",
       "      <th>222000.00</th>\n",
       "      <th>249999.00</th>\n",
       "      <th>250000.00</th>\n",
       "      <th>295000.00</th>\n",
       "      <th>300000.00</th>\n",
       "    </tr>\n",
       "    <tr>\n",
       "      <th>Brand</th>\n",
       "      <th></th>\n",
       "      <th></th>\n",
       "      <th></th>\n",
       "      <th></th>\n",
       "      <th></th>\n",
       "      <th></th>\n",
       "      <th></th>\n",
       "      <th></th>\n",
       "      <th></th>\n",
       "      <th></th>\n",
       "      <th></th>\n",
       "      <th></th>\n",
       "      <th></th>\n",
       "      <th></th>\n",
       "      <th></th>\n",
       "      <th></th>\n",
       "      <th></th>\n",
       "      <th></th>\n",
       "      <th></th>\n",
       "      <th></th>\n",
       "      <th></th>\n",
       "    </tr>\n",
       "  </thead>\n",
       "  <tbody>\n",
       "    <tr>\n",
       "      <th>Audi</th>\n",
       "      <td>1</td>\n",
       "      <td>0</td>\n",
       "      <td>0</td>\n",
       "      <td>0</td>\n",
       "      <td>0</td>\n",
       "      <td>0</td>\n",
       "      <td>0</td>\n",
       "      <td>0</td>\n",
       "      <td>0</td>\n",
       "      <td>0</td>\n",
       "      <td>...</td>\n",
       "      <td>0</td>\n",
       "      <td>0</td>\n",
       "      <td>0</td>\n",
       "      <td>0</td>\n",
       "      <td>0</td>\n",
       "      <td>0</td>\n",
       "      <td>0</td>\n",
       "      <td>0</td>\n",
       "      <td>0</td>\n",
       "      <td>0</td>\n",
       "    </tr>\n",
       "    <tr>\n",
       "      <th>BMW</th>\n",
       "      <td>0</td>\n",
       "      <td>0</td>\n",
       "      <td>0</td>\n",
       "      <td>0</td>\n",
       "      <td>0</td>\n",
       "      <td>0</td>\n",
       "      <td>0</td>\n",
       "      <td>0</td>\n",
       "      <td>0</td>\n",
       "      <td>0</td>\n",
       "      <td>...</td>\n",
       "      <td>0</td>\n",
       "      <td>0</td>\n",
       "      <td>0</td>\n",
       "      <td>0</td>\n",
       "      <td>0</td>\n",
       "      <td>0</td>\n",
       "      <td>0</td>\n",
       "      <td>0</td>\n",
       "      <td>0</td>\n",
       "      <td>0</td>\n",
       "    </tr>\n",
       "    <tr>\n",
       "      <th>Mercedes-Benz</th>\n",
       "      <td>0</td>\n",
       "      <td>0</td>\n",
       "      <td>0</td>\n",
       "      <td>0</td>\n",
       "      <td>0</td>\n",
       "      <td>0</td>\n",
       "      <td>0</td>\n",
       "      <td>0</td>\n",
       "      <td>1</td>\n",
       "      <td>0</td>\n",
       "      <td>...</td>\n",
       "      <td>1</td>\n",
       "      <td>1</td>\n",
       "      <td>4</td>\n",
       "      <td>1</td>\n",
       "      <td>2</td>\n",
       "      <td>1</td>\n",
       "      <td>1</td>\n",
       "      <td>1</td>\n",
       "      <td>2</td>\n",
       "      <td>2</td>\n",
       "    </tr>\n",
       "    <tr>\n",
       "      <th>Mitsubishi</th>\n",
       "      <td>0</td>\n",
       "      <td>1</td>\n",
       "      <td>0</td>\n",
       "      <td>0</td>\n",
       "      <td>0</td>\n",
       "      <td>1</td>\n",
       "      <td>0</td>\n",
       "      <td>0</td>\n",
       "      <td>0</td>\n",
       "      <td>0</td>\n",
       "      <td>...</td>\n",
       "      <td>0</td>\n",
       "      <td>0</td>\n",
       "      <td>0</td>\n",
       "      <td>0</td>\n",
       "      <td>0</td>\n",
       "      <td>0</td>\n",
       "      <td>0</td>\n",
       "      <td>0</td>\n",
       "      <td>0</td>\n",
       "      <td>0</td>\n",
       "    </tr>\n",
       "    <tr>\n",
       "      <th>Renault</th>\n",
       "      <td>0</td>\n",
       "      <td>1</td>\n",
       "      <td>1</td>\n",
       "      <td>0</td>\n",
       "      <td>1</td>\n",
       "      <td>0</td>\n",
       "      <td>1</td>\n",
       "      <td>0</td>\n",
       "      <td>1</td>\n",
       "      <td>0</td>\n",
       "      <td>...</td>\n",
       "      <td>0</td>\n",
       "      <td>0</td>\n",
       "      <td>0</td>\n",
       "      <td>0</td>\n",
       "      <td>0</td>\n",
       "      <td>0</td>\n",
       "      <td>0</td>\n",
       "      <td>0</td>\n",
       "      <td>0</td>\n",
       "      <td>0</td>\n",
       "    </tr>\n",
       "  </tbody>\n",
       "</table>\n",
       "<p>5 rows × 906 columns</p>\n",
       "</div>"
      ],
      "text/plain": [
       "Price          600.00     800.00     999.00     1100.00    1150.00    \\\n",
       "Brand                                                                  \n",
       "Audi                   1          0          0          0          0   \n",
       "BMW                    0          0          0          0          0   \n",
       "Mercedes-Benz          0          0          0          0          0   \n",
       "Mitsubishi             0          1          0          0          0   \n",
       "Renault                0          1          1          0          1   \n",
       "\n",
       "Price          1180.00    1185.60    1199.00    1200.00    1296.75    ...  \\\n",
       "Brand                                                                 ...   \n",
       "Audi                   0          0          0          0          0  ...   \n",
       "BMW                    0          0          0          0          0  ...   \n",
       "Mercedes-Benz          0          0          0          1          0  ...   \n",
       "Mitsubishi             1          0          0          0          0  ...   \n",
       "Renault                0          1          0          1          0  ...   \n",
       "\n",
       "Price          189999.00  195000.00  199999.00  200000.00  219900.00  \\\n",
       "Brand                                                                  \n",
       "Audi                   0          0          0          0          0   \n",
       "BMW                    0          0          0          0          0   \n",
       "Mercedes-Benz          1          1          4          1          2   \n",
       "Mitsubishi             0          0          0          0          0   \n",
       "Renault                0          0          0          0          0   \n",
       "\n",
       "Price          222000.00  249999.00  250000.00  295000.00  300000.00  \n",
       "Brand                                                                 \n",
       "Audi                   0          0          0          0          0  \n",
       "BMW                    0          0          0          0          0  \n",
       "Mercedes-Benz          1          1          1          2          2  \n",
       "Mitsubishi             0          0          0          0          0  \n",
       "Renault                0          0          0          0          0  \n",
       "\n",
       "[5 rows x 906 columns]"
      ]
     },
     "execution_count": 25,
     "metadata": {},
     "output_type": "execute_result"
    }
   ],
   "source": [
    "pd.crosstab(car_sales[\"Brand\"], car_sales[\"Price\"]).head()"
   ]
  },
  {
   "cell_type": "code",
   "execution_count": 43,
   "id": "9f583bdc",
   "metadata": {},
   "outputs": [],
   "source": [
    "# Groupby\n",
    "# car_sales.groupby([\"Mileage\"]).mean()\n",
    "# car_data.groupby([\"Car make\"]).mean()"
   ]
  },
  {
   "cell_type": "markdown",
   "id": "7e63a70a",
   "metadata": {},
   "source": [
    "### Data Frame Visualization:"
   ]
  },
  {
   "cell_type": "code",
   "execution_count": 44,
   "id": "67cea936",
   "metadata": {},
   "outputs": [
    {
     "data": {
      "text/plain": [
       "<Axes: >"
      ]
     },
     "execution_count": 44,
     "metadata": {},
     "output_type": "execute_result"
    },
    {
     "data": {
      "image/png": "[encoded data removed]",
      "text/plain": [
       "<Figure size 640x480 with 1 Axes>"
      ]
     },
     "metadata": {},
     "output_type": "display_data"
    }
   ],
   "source": [
    "# using Matplotlib\n",
    "# %matplotlib inline {inlining matplotlib}\n",
    "car_sales[\"Mileage\"].plot()"
   ]
  },
  {
   "cell_type": "code",
   "execution_count": 45,
   "id": "a2f59e1d",
   "metadata": {},
   "outputs": [
    {
     "data": {
      "text/plain": [
       "<Axes: >"
      ]
     },
     "execution_count": 45,
     "metadata": {},
     "output_type": "execute_result"
    },
    {
     "data": {
      "image/png": "[encoded data removed]",
      "text/plain": [
       "<Figure size 640x480 with 1 Axes>"
      ]
     },
     "metadata": {},
     "output_type": "display_data"
    }
   ],
   "source": [
    "car_sales[\"Mileage\"].hist()"
   ]
  },
  {
   "cell_type": "code",
   "execution_count": null,
   "id": "6a83e2f8",
   "metadata": {},
   "outputs": [],
   "source": []
  }
 ],
 "metadata": {
  "kernelspec": {
   "display_name": "Python 3 (ipykernel)",
   "language": "python",
   "name": "python3"
  },
  "language_info": {
   "codemirror_mode": {
    "name": "ipython",
    "version": 3
   },
   "file_extension": ".py",
   "mimetype": "text/x-python",
   "name": "python",
   "nbconvert_exporter": "python",
   "pygments_lexer": "ipython3",
   "version": "3.10.13"
  }
 },
 "nbformat": 4,
 "nbformat_minor": 5
}
