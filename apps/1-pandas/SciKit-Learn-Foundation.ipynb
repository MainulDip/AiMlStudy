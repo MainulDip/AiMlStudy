{
 "cells": [
  {
   "cell_type": "markdown",
   "id": "bb90afde",
   "metadata": {},
   "source": [
    "### Introduction to SciKit-Learn\n",
    "* Topics\n",
    "0. End-to-End SciKit-Learn Workflow\n",
    "1. Getting the data ready\n",
    "2. Choose the right estimator/algorithm for our problems\n",
    "3. Fit the model/algorithm and use it to make predictions on our data\n",
    "4. Evaluating a model\n",
    "5. Improve a model\n",
    "6. Save and load a trained model\n",
    "7. Putting it all togather"
   ]
  },
  {
   "cell_type": "markdown",
   "id": "f9ec39e0",
   "metadata": {},
   "source": [
    "### 0. End-to-End SciKit-Learn Workflow "
   ]
  },
  {
   "cell_type": "code",
   "execution_count": null,
   "id": "bbabd2cb",
   "metadata": {},
   "outputs": [],
   "source": [
    "import pandas as pd\n",
    "heart_disease = pd.read_csv()"
   ]
  }
 ],
 "metadata": {
  "kernelspec": {
   "display_name": "Python 3 (ipykernel)",
   "language": "python",
   "name": "python3"
  },
  "language_info": {
   "codemirror_mode": {
    "name": "ipython",
    "version": 3
   },
   "file_extension": ".py",
   "mimetype": "text/x-python",
   "name": "python",
   "nbconvert_exporter": "python",
   "pygments_lexer": "ipython3",
   "version": "3.10.13"
  }
 },
 "nbformat": 4,
 "nbformat_minor": 5
}
