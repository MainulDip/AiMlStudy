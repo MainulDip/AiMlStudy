{
 "cells": [
  {
   "cell_type": "code",
   "execution_count": 2,
   "id": "42e36d53-2db4-4144-bff2-f16c2f9ff691",
   "metadata": {},
   "outputs": [],
   "source": [
    "import warnings\n",
    "warnings.filterwarnings('ignore')"
   ]
  },
  {
   "cell_type": "code",
   "execution_count": 3,
   "id": "4a4640af-f20f-4b87-ad9b-05d31af69354",
   "metadata": {},
   "outputs": [
    {
     "name": "stdout",
     "output_type": "stream",
     "text": [
      "TF version: 2.14.0\n",
      "TF Hub version: 0.15.0\n",
      "GPU available (Yess!!!!!!!!)\n"
     ]
    }
   ],
   "source": [
    "# Import Tensorflow\n",
    "import tensorflow as tf\n",
    "import tensorflow_hub as hub\n",
    "print(\"TF version:\", tf.__version__)\n",
    "print(\"TF Hub version:\", hub.__version__)\n",
    "\n",
    "# Check For GPU availability (o use GPU change Runtime to GPU)\n",
    "print(\"GPU\", \"available (Yess!!!!!!!!)\" if tf.config.list_physical_devices(\"GPU\") else \"not Available\")"
   ]
  },
  {
   "cell_type": "code",
   "execution_count": null,
   "id": "66057de8-e0ee-405e-b346-69c0b95cbf88",
   "metadata": {},
   "outputs": [],
   "source": []
  }
 ],
 "metadata": {
  "kernelspec": {
   "display_name": "Python 3 (ipykernel)",
   "language": "python",
   "name": "python3"
  },
  "language_info": {
   "codemirror_mode": {
    "name": "ipython",
    "version": 3
   },
   "file_extension": ".py",
   "mimetype": "text/x-python",
   "name": "python",
   "nbconvert_exporter": "python",
   "pygments_lexer": "ipython3",
   "version": "3.9.18"
  }
 },
 "nbformat": 4,
 "nbformat_minor": 5
}
